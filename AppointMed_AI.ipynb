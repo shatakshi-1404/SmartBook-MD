{
  "nbformat": 4,
  "nbformat_minor": 0,
  "metadata": {
    "colab": {
      "provenance": [],
      "gpuType": "T4",
      "authorship_tag": "ABX9TyMc2iYLAMqeTqjsEsuyYWPA",
      "include_colab_link": true
    },
    "kernelspec": {
      "name": "python3",
      "display_name": "Python 3"
    },
    "language_info": {
      "name": "python"
    },
    "accelerator": "GPU"
  },
  "cells": [
    {
      "cell_type": "markdown",
      "metadata": {
        "id": "view-in-github",
        "colab_type": "text"
      },
      "source": [
        "<a href=\"https://colab.research.google.com/github/shatakshi-1404/SmartBook-MD/blob/main/AppointMed_AI.ipynb\" target=\"_parent\"><img src=\"https://colab.research.google.com/assets/colab-badge.svg\" alt=\"Open In Colab\"/></a>"
      ]
    },
    {
      "cell_type": "code",
      "source": [
        "# @title 🏥 SmartBook MD (100% Working in Colab)\n",
        "# 1. PORT CLEANER (Run this cell first)\n",
        "!pip install flask pandas scikit-learn -q\n",
        "import os\n",
        "from threading import Thread\n",
        "import socket\n",
        "\n",
        "def kill_port(port):\n",
        "    try: os.system(f\"fuser -k {port}/tcp\")\n",
        "    except: pass\n",
        "\n",
        "kill_port(5000)  # Clean port 5000\n",
        "\n",
        "# 2. FLASK SERVER\n",
        "from flask import Flask, request, jsonify\n",
        "app = Flask(__name__)\n",
        "\n",
        "@app.route('/assign_slot', methods=['POST'])\n",
        "def assign_slot():\n",
        "    symptoms = request.json['symptoms'].lower()\n",
        "    if 'chest pain' in symptoms:\n",
        "        return {'slot': 'URGENT', 'doctor': 'Cardiologist'}\n",
        "    elif 'fever' in symptoms:\n",
        "        return {'slot': 'HIGH', 'doctor': 'General Physician'}\n",
        "    return {'slot': 'ROUTINE', 'doctor': 'GP'}\n",
        "\n",
        "def run_flask():\n",
        "    app.run(host='0.0.0.0', port=5000)\n",
        "\n",
        "Thread(target=run_flask, daemon=True).start()\n",
        "\n",
        "# 3. TEST IT\n",
        "import requests\n",
        "from time import sleep\n",
        "sleep(2)  # Wait for server\n",
        "\n",
        "try:\n",
        "    response = requests.post('http://localhost:5000/assign_slot',\n",
        "                           json={'symptoms': 'chest pain'}).json()\n",
        "    print(f\"✅ Response: {response}\")\n",
        "except Exception as e:\n",
        "    print(f\"❌ Error: {str(e)}\\nTip: Click 'Runtime → Restart runtime' and try again\")"
      ],
      "metadata": {
        "colab": {
          "base_uri": "https://localhost:8080/"
        },
        "id": "PEjTTepv9DBM",
        "outputId": "09c92906-7d34-487d-8229-94ed828eeae4"
      },
      "execution_count": 3,
      "outputs": [
        {
          "output_type": "stream",
          "name": "stdout",
          "text": [
            " * Serving Flask app '__main__'\n",
            " * Debug mode: off\n"
          ]
        },
        {
          "output_type": "stream",
          "name": "stderr",
          "text": [
            "INFO:werkzeug:\u001b[31m\u001b[1mWARNING: This is a development server. Do not use it in a production deployment. Use a production WSGI server instead.\u001b[0m\n",
            " * Running on all addresses (0.0.0.0)\n",
            " * Running on http://127.0.0.1:5000\n",
            " * Running on http://172.28.0.12:5000\n",
            "INFO:werkzeug:\u001b[33mPress CTRL+C to quit\u001b[0m\n",
            "INFO:werkzeug:127.0.0.1 - - [16/Aug/2025 17:36:29] \"POST /assign_slot HTTP/1.1\" 200 -\n"
          ]
        },
        {
          "output_type": "stream",
          "name": "stdout",
          "text": [
            "✅ Response: {'doctor': 'Cardiologist', 'slot': 'URGENT'}\n"
          ]
        }
      ]
    }
  ]
}